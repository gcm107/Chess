{
 "cells": [
  {
   "cell_type": "markdown",
   "metadata": {},
   "source": [
    "## Original Notebook"
   ]
  },
  {
   "cell_type": "code",
   "execution_count": null,
   "metadata": {},
   "outputs": [],
   "source": [
    "import os, sys\n",
    "sys.path.append(os.path.join('..', 'src'))"
   ]
  },
  {
   "cell_type": "code",
   "execution_count": null,
   "metadata": {},
   "outputs": [],
   "source": [
    "from chess_zero.agent.player_chess import ChessPlayer\n",
    "from chess_zero.config import Config, PlayWithHumanConfig\n",
    "from chess_zero.env.chess_env import ChessEnv"
   ]
  },
  {
   "cell_type": "code",
   "execution_count": null,
   "metadata": {},
   "outputs": [],
   "source": [
    "def get_player(config):\n",
    "    from chess_zero.agent.model_chess import ChessModel\n",
    "    from chess_zero.lib.model_helper import load_best_model_weight\n",
    "    model = ChessModel(config)\n",
    "    if not load_best_model_weight(model):\n",
    "        raise RuntimeError(\"Best model not found!\")\n",
    "    return ChessPlayer(config, model.get_pipes(config.play.search_threads))\n",
    "\n",
    "def info(depth, move, score):\n",
    "    print(f\"info score cp {int(score*100)} depth {depth} pv {move}\")\n",
    "    sys.stdout.flush()"
   ]
  },
  {
   "cell_type": "code",
   "execution_count": null,
   "metadata": {},
   "outputs": [],
   "source": [
    "default_config = Config()\n",
    "PlayWithHumanConfig().update_play_config(default_config.play)\n",
    "me_player = None\n",
    "env = ChessEnv().reset()"
   ]
  },
  {
   "cell_type": "code",
   "execution_count": null,
   "metadata": {},
   "outputs": [],
   "source": [
    "env.board"
   ]
  },
  {
   "cell_type": "code",
   "execution_count": null,
   "metadata": {},
   "outputs": [],
   "source": [
    "if not me_player:\n",
    "    me_player = get_player(default_config)\n",
    "action = me_player.action(env, False)\n",
    "print(f\"bestmove {action}\")"
   ]
  },
  {
   "cell_type": "code",
   "execution_count": null,
   "metadata": {},
   "outputs": [],
   "source": [
    "env.step(action)\n",
    "env.board"
   ]
  },
  {
   "cell_type": "code",
   "execution_count": null,
   "metadata": {},
   "outputs": [],
   "source": [
    "if not me_player:\n",
    "    me_player = get_player(default_config)\n",
    "action = me_player.action(env, False)\n",
    "print(f\"bestmove {action}\")"
   ]
  },
  {
   "cell_type": "code",
   "execution_count": null,
   "metadata": {},
   "outputs": [],
   "source": [
    "env.step(action)\n",
    "env.board"
   ]
  },
  {
   "cell_type": "code",
   "execution_count": null,
   "metadata": {},
   "outputs": [],
   "source": [
    "if not me_player:\n",
    "    me_player = get_player(default_config)\n",
    "action = me_player.action(env, False)\n",
    "print(f\"bestmove {action}\")"
   ]
  },
  {
   "cell_type": "code",
   "execution_count": null,
   "metadata": {},
   "outputs": [],
   "source": [
    "env.step(action)\n",
    "env.board"
   ]
  },
  {
   "cell_type": "code",
   "execution_count": null,
   "metadata": {},
   "outputs": [],
   "source": [
    "if not me_player:\n",
    "    me_player = get_player(default_config)\n",
    "action = me_player.action(env, False)\n",
    "print(f\"bestmove {action}\")\n",
    "env.step(action)\n",
    "env.board"
   ]
  },
  {
   "cell_type": "code",
   "execution_count": null,
   "metadata": {},
   "outputs": [],
   "source": [
    "if not me_player:\n",
    "    me_player = get_player(default_config)\n",
    "action = me_player.action(env, False)\n",
    "print(f\"bestmove {action}\")\n",
    "env.step(action)\n",
    "env.board"
   ]
  },
  {
   "cell_type": "code",
   "execution_count": null,
   "metadata": {},
   "outputs": [],
   "source": [
    "if not me_player:\n",
    "    me_player = get_player(default_config)\n",
    "action = me_player.action(env, False)\n",
    "print(f\"bestmove {action}\")\n",
    "env.step(action)\n",
    "env.board"
   ]
  },
  {
   "cell_type": "code",
   "execution_count": null,
   "metadata": {},
   "outputs": [],
   "source": [
    "if not me_player:\n",
    "    me_player = get_player(default_config)\n",
    "action = me_player.action(env, False)\n",
    "print(f\"bestmove {action}\")\n",
    "env.step(action)\n",
    "env.board"
   ]
  },
  {
   "cell_type": "code",
   "execution_count": null,
   "metadata": {},
   "outputs": [],
   "source": [
    "if not me_player:\n",
    "    me_player = get_player(default_config)\n",
    "action = me_player.action(env, False)\n",
    "print(f\"bestmove {action}\")\n",
    "env.step(action)\n",
    "env.board"
   ]
  },
  {
   "cell_type": "code",
   "execution_count": null,
   "metadata": {},
   "outputs": [],
   "source": [
    "if not me_player:\n",
    "    me_player = get_player(default_config)\n",
    "action = me_player.action(env, False)\n",
    "print(f\"bestmove {action}\")\n",
    "env.step(action)\n",
    "env.board"
   ]
  },
  {
   "cell_type": "code",
   "execution_count": null,
   "metadata": {},
   "outputs": [],
   "source": [
    "if not me_player:\n",
    "    me_player = get_player(default_config)\n",
    "action = me_player.action(env, False)\n",
    "print(f\"bestmove {action}\")\n",
    "env.step(action)\n",
    "env.board"
   ]
  }
 ],
 "metadata": {
  "kernelspec": {
   "display_name": "Python 3",
   "language": "python",
   "name": "python3"
  },
  "language_info": {
   "codemirror_mode": {
    "name": "ipython",
    "version": 3
   },
   "file_extension": ".py",
   "mimetype": "text/x-python",
   "name": "python",
   "nbconvert_exporter": "python",
   "pygments_lexer": "ipython3",
   "version": "3.10.14"
  }
 },
 "nbformat": 4,
 "nbformat_minor": 2
}
