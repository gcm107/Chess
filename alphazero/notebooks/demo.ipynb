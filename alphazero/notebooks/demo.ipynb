{
 "cells": [
  {
   "cell_type": "code",
   "execution_count": null,
   "metadata": {},
   "outputs": [],
   "source": [
    "import os, sys\n",
    "sys.path.append(os.path.join('..', 'src'))"
   ]
  },
  {
   "cell_type": "code",
   "execution_count": null,
   "metadata": {},
   "outputs": [],
   "source": [
    "from chess_zero.agent.player_chess import ChessPlayer\n",
    "from chess_zero.config import Config, PlayWithHumanConfig\n",
    "from chess_zero.env.chess_env import ChessEnv"
   ]
  },
  {
   "cell_type": "code",
   "execution_count": null,
   "metadata": {},
   "outputs": [],
   "source": [
    "def get_player(config):\n",
    "    from chess_zero.agent.model_chess import ChessModel\n",
    "    from chess_zero.lib.model_helper import load_best_model_weight\n",
    "    model = ChessModel(config)\n",
    "    if not load_best_model_weight(model):\n",
    "        raise RuntimeError(\"Best model not found!\")\n",
    "    return ChessPlayer(config, model.get_pipes(config.play.search_threads))\n",
    "\n",
    "def info(depth, move, score):\n",
    "    print(f\"info score cp {int(score*100)} depth {depth} pv {move}\")\n",
    "    sys.stdout.flush()"
   ]
  },
  {
   "cell_type": "code",
   "execution_count": null,
   "metadata": {},
   "outputs": [],
   "source": [
    "default_config = Config()\n",
    "PlayWithHumanConfig().update_play_config(default_config.play)\n",
    "me_player = None\n",
    "env = ChessEnv().reset()"
   ]
  },
  {
   "cell_type": "code",
   "execution_count": null,
   "metadata": {},
   "outputs": [],
   "source": [
    "env.board"
   ]
  },
  {
   "cell_type": "code",
   "execution_count": null,
   "metadata": {},
   "outputs": [
    {
     "name": "stderr",
     "output_type": "stream",
     "text": [
      "2024-09-22 08:48:47.142577: E external/local_xla/xla/service/slow_operation_alarm.cc:133] The operation took 5.47040916s\n",
      "Trying algorithm eng53{k2=5,k13=1,k14=2,k18=0,k23=0} for conv (f32[26,2,8,8]{3,2,1,0}, u8[0]{0}) custom-call(f32[26,256,8,8]{3,2,1,0}, f32[2,256,1,1]{3,2,1,0}), window={size=1x1}, dim_labels=bf01_oi01->bf01, custom_call_target=\"__cudnn$convForward\", backend_config={\"operation_queue_id\":\"0\",\"wait_on_operation_queues\":[],\"cudnn_conv_backend_config\":{\"conv_result_scale\":1,\"activation_mode\":\"kNone\",\"side_input_scale\":0,\"leakyrelu_alpha\":0},\"force_earliest_schedule\":false} is taking a while...\n",
      "2024-09-22 08:48:48.153263: E external/local_xla/xla/service/slow_operation_alarm.cc:65] Trying algorithm eng55{k2=8,k13=1,k14=1,k18=0,k22=2,k23=0} for conv (f32[26,2,8,8]{3,2,1,0}, u8[0]{0}) custom-call(f32[26,256,8,8]{3,2,1,0}, f32[2,256,1,1]{3,2,1,0}), window={size=1x1}, dim_labels=bf01_oi01->bf01, custom_call_target=\"__cudnn$convForward\", backend_config={\"operation_queue_id\":\"0\",\"wait_on_operation_queues\":[],\"cudnn_conv_backend_config\":{\"conv_result_scale\":1,\"activation_mode\":\"kNone\",\"side_input_scale\":0,\"leakyrelu_alpha\":0},\"force_earliest_schedule\":false} is taking a while...\n",
      "2024-09-22 08:48:48.153652: E external/local_xla/xla/service/slow_operation_alarm.cc:133] The operation took 1.000533204s\n",
      "Trying algorithm eng55{k2=8,k13=1,k14=1,k18=0,k22=2,k23=0} for conv (f32[26,2,8,8]{3,2,1,0}, u8[0]{0}) custom-call(f32[26,256,8,8]{3,2,1,0}, f32[2,256,1,1]{3,2,1,0}), window={size=1x1}, dim_labels=bf01_oi01->bf01, custom_call_target=\"__cudnn$convForward\", backend_config={\"operation_queue_id\":\"0\",\"wait_on_operation_queues\":[],\"cudnn_conv_backend_config\":{\"conv_result_scale\":1,\"activation_mode\":\"kNone\",\"side_input_scale\":0,\"leakyrelu_alpha\":0},\"force_earliest_schedule\":false} is taking a while...\n",
      "2024-09-22 08:48:49.156023: E external/local_xla/xla/service/slow_operation_alarm.cc:65] Trying algorithm eng53{k2=5,k13=1,k14=2,k18=1,k23=0} for conv (f32[26,2,8,8]{3,2,1,0}, u8[0]{0}) custom-call(f32[26,256,8,8]{3,2,1,0}, f32[2,256,1,1]{3,2,1,0}), window={size=1x1}, dim_labels=bf01_oi01->bf01, custom_call_target=\"__cudnn$convForward\", backend_config={\"operation_queue_id\":\"0\",\"wait_on_operation_queues\":[],\"cudnn_conv_backend_config\":{\"conv_result_scale\":1,\"activation_mode\":\"kNone\",\"side_input_scale\":0,\"leakyrelu_alpha\":0},\"force_earliest_schedule\":false} is taking a while...\n",
      "2024-09-22 08:48:52.826110: E external/local_xla/xla/service/slow_operation_alarm.cc:133] The operation took 4.670351584s\n",
      "Trying algorithm eng53{k2=5,k13=1,k14=2,k18=1,k23=0} for conv (f32[26,2,8,8]{3,2,1,0}, u8[0]{0}) custom-call(f32[26,256,8,8]{3,2,1,0}, f32[2,256,1,1]{3,2,1,0}), window={size=1x1}, dim_labels=bf01_oi01->bf01, custom_call_target=\"__cudnn$convForward\", backend_config={\"operation_queue_id\":\"0\",\"wait_on_operation_queues\":[],\"cudnn_conv_backend_config\":{\"conv_result_scale\":1,\"activation_mode\":\"kNone\",\"side_input_scale\":0,\"leakyrelu_alpha\":0},\"force_earliest_schedule\":false} is taking a while...\n",
      "2024-09-22 08:49:28.394925: I external/local_xla/xla/stream_executor/cuda/cuda_asm_compiler.cc:393] ptxas warning : Registers are spilled to local memory in function 'gemm_fusion_dot_487', 12 bytes spill stores, 12 bytes spill loads\n",
      "\n",
      "2024-09-22 08:49:35.304859: I external/local_xla/xla/stream_executor/cuda/cuda_asm_compiler.cc:393] ptxas warning : Registers are spilled to local memory in function 'gemm_fusion_dot_487', 12 bytes spill stores, 12 bytes spill loads\n",
      "\n",
      "2024-09-22 08:49:52.830381: E external/local_xla/xla/service/slow_operation_alarm.cc:65] Trying algorithm eng35{k2=5,k5=2,k14=6} for conv (f32[12,2,8,8]{3,2,1,0}, u8[0]{0}) custom-call(f32[12,256,8,8]{3,2,1,0}, f32[2,256,1,1]{3,2,1,0}), window={size=1x1}, dim_labels=bf01_oi01->bf01, custom_call_target=\"__cudnn$convForward\", backend_config={\"operation_queue_id\":\"0\",\"wait_on_operation_queues\":[],\"cudnn_conv_backend_config\":{\"conv_result_scale\":1,\"activation_mode\":\"kNone\",\"side_input_scale\":0,\"leakyrelu_alpha\":0},\"force_earliest_schedule\":false} is taking a while...\n",
      "2024-09-22 08:49:57.006084: E external/local_xla/xla/service/slow_operation_alarm.cc:133] The operation took 5.175827504s\n",
      "Trying algorithm eng35{k2=5,k5=2,k14=6} for conv (f32[12,2,8,8]{3,2,1,0}, u8[0]{0}) custom-call(f32[12,256,8,8]{3,2,1,0}, f32[2,256,1,1]{3,2,1,0}), window={size=1x1}, dim_labels=bf01_oi01->bf01, custom_call_target=\"__cudnn$convForward\", backend_config={\"operation_queue_id\":\"0\",\"wait_on_operation_queues\":[],\"cudnn_conv_backend_config\":{\"conv_result_scale\":1,\"activation_mode\":\"kNone\",\"side_input_scale\":0,\"leakyrelu_alpha\":0},\"force_earliest_schedule\":false} is taking a while...\n",
      "2024-09-22 08:50:03.540059: I external/local_xla/xla/stream_executor/cuda/cuda_asm_compiler.cc:393] ptxas warning : Registers are spilled to local memory in function 'gemm_fusion_dot_487', 12 bytes spill stores, 12 bytes spill loads\n",
      "\n"
     ]
    }
   ],
   "source": [
    "if not me_player:\n",
    "    me_player = get_player(default_config)\n",
    "action = me_player.action(env, False)\n",
    "print(f\"bestmove {action}\")"
   ]
  },
  {
   "cell_type": "code",
   "execution_count": null,
   "metadata": {},
   "outputs": [],
   "source": [
    "env.step(action)\n",
    "env.board"
   ]
  },
  {
   "cell_type": "code",
   "execution_count": null,
   "metadata": {},
   "outputs": [],
   "source": [
    "if not me_player:\n",
    "    me_player = get_player(default_config)\n",
    "action = me_player.action(env, False)\n",
    "print(f\"bestmove {action}\")"
   ]
  },
  {
   "cell_type": "code",
   "execution_count": null,
   "metadata": {},
   "outputs": [],
   "source": [
    "env.step(action)\n",
    "env.board"
   ]
  },
  {
   "cell_type": "code",
   "execution_count": null,
   "metadata": {},
   "outputs": [],
   "source": [
    "if not me_player:\n",
    "    me_player = get_player(default_config)\n",
    "action = me_player.action(env, False)\n",
    "print(f\"bestmove {action}\")"
   ]
  },
  {
   "cell_type": "code",
   "execution_count": null,
   "metadata": {},
   "outputs": [],
   "source": [
    "env.step(action)\n",
    "env.board"
   ]
  },
  {
   "cell_type": "code",
   "execution_count": null,
   "metadata": {},
   "outputs": [],
   "source": [
    "if not me_player:\n",
    "    me_player = get_player(default_config)\n",
    "action = me_player.action(env, False)\n",
    "print(f\"bestmove {action}\")\n",
    "env.step(action)\n",
    "env.board"
   ]
  },
  {
   "cell_type": "code",
   "execution_count": null,
   "metadata": {},
   "outputs": [],
   "source": [
    "if not me_player:\n",
    "    me_player = get_player(default_config)\n",
    "action = me_player.action(env, False)\n",
    "print(f\"bestmove {action}\")\n",
    "env.step(action)\n",
    "env.board"
   ]
  },
  {
   "cell_type": "code",
   "execution_count": null,
   "metadata": {},
   "outputs": [],
   "source": [
    "if not me_player:\n",
    "    me_player = get_player(default_config)\n",
    "action = me_player.action(env, False)\n",
    "print(f\"bestmove {action}\")\n",
    "env.step(action)\n",
    "env.board"
   ]
  },
  {
   "cell_type": "code",
   "execution_count": null,
   "metadata": {},
   "outputs": [],
   "source": [
    "if not me_player:\n",
    "    me_player = get_player(default_config)\n",
    "action = me_player.action(env, False)\n",
    "print(f\"bestmove {action}\")\n",
    "env.step(action)\n",
    "env.board"
   ]
  },
  {
   "cell_type": "code",
   "execution_count": null,
   "metadata": {},
   "outputs": [],
   "source": [
    "if not me_player:\n",
    "    me_player = get_player(default_config)\n",
    "action = me_player.action(env, False)\n",
    "print(f\"bestmove {action}\")\n",
    "env.step(action)\n",
    "env.board"
   ]
  },
  {
   "cell_type": "code",
   "execution_count": null,
   "metadata": {},
   "outputs": [],
   "source": [
    "if not me_player:\n",
    "    me_player = get_player(default_config)\n",
    "action = me_player.action(env, False)\n",
    "print(f\"bestmove {action}\")\n",
    "env.step(action)\n",
    "env.board"
   ]
  },
  {
   "cell_type": "code",
   "execution_count": null,
   "metadata": {},
   "outputs": [],
   "source": [
    "if not me_player:\n",
    "    me_player = get_player(default_config)\n",
    "action = me_player.action(env, False)\n",
    "print(f\"bestmove {action}\")\n",
    "env.step(action)\n",
    "env.board"
   ]
  },
  {
   "cell_type": "code",
   "execution_count": null,
   "metadata": {},
   "outputs": [],
   "source": []
  }
 ],
 "metadata": {
  "kernelspec": {
   "display_name": "Python 3",
   "language": "python",
   "name": "python3"
  },
  "language_info": {
   "codemirror_mode": {
    "name": "ipython",
    "version": 3
   },
   "file_extension": ".py",
   "mimetype": "text/x-python",
   "name": "python",
   "nbconvert_exporter": "python",
   "pygments_lexer": "ipython3",
   "version": "3.10.14"
  }
 },
 "nbformat": 4,
 "nbformat_minor": 2
}
